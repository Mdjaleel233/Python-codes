{
  "cells": [
    {
      "cell_type": "markdown",
      "id": "8f868eb6",
      "metadata": {
        "id": "8f868eb6"
      },
      "source": [
        "# Homework 3 - Python\n",
        "\n",
        "First Name: Muhammad\n",
        "\n",
        "Last Name:   Jaleel\n",
        "\n",
        "Group:"
      ]
    },
    {
      "cell_type": "markdown",
      "id": "328bf1ff",
      "metadata": {
        "id": "328bf1ff"
      },
      "source": [
        "## Task 1  (1 point) - Distance Calculator\n",
        "\n",
        "A robot moves in a plane starting from the original point (0,0) - these points are corresponding to (x, y). The robot can move toward UP, DOWN, LEFT and RIGHT with a given steps. The trace of robot movement is shown as the following:\n",
        "\n",
        "- UP 5\n",
        "- DOWN 3\n",
        "- LEFT 3\n",
        "- RIGHT 2\n",
        "\n",
        "The numbers after the direction are steps. Please write a program to compute the distance from current position after a sequence of movement and original point. If the distance is a float, then just print the nearest integer.\n",
        "\n",
        "```\n",
        "Example:\n",
        "If the following tuples are given as input to the program:\n",
        "- UP 5\n",
        "- DOWN 3\n",
        "- LEFT 3\n",
        "- RIGHT 2\n",
        "Then, the output of the program should be: 2\n",
        "```\n",
        "\n",
        "Hint: the distance is calculated by the square root of the sum of square of each position.\n",
        "\n",
        "$$\n",
        "distance = \\sqrt{x^2 + y^2}\n",
        "$$"
      ]
    },
    {
      "cell_type": "code",
      "execution_count": null,
      "id": "b92379bd",
      "metadata": {
        "colab": {
          "base_uri": "https://localhost:8080/"
        },
        "id": "b92379bd",
        "outputId": "8e5aff78-4315-4df2-9e6b-e76a0654fea1"
      },
      "outputs": [
        {
          "output_type": "stream",
          "name": "stdout",
          "text": [
            "2\n"
          ]
        }
      ],
      "source": [
        "import math\n",
        "position = {\"x\": 0, \"y\": 0}\n",
        "movements = [(\"UP\", 5), (\"DOWN\", 3), (\"LEFT\", 3), (\"RIGHT\", 2)]\n",
        "for direction, steps in movements:\n",
        "    if direction == \"UP\":\n",
        "        position[\"y\"] += steps\n",
        "    elif direction == \"DOWN\":\n",
        "        position[\"y\"] -= steps\n",
        "    elif direction == \"LEFT\":\n",
        "        position[\"x\"] -= steps\n",
        "    elif direction == \"RIGHT\":\n",
        "        position[\"x\"] += steps\n",
        "distance = math.sqrt(position[\"x\"]**2 + position[\"y\"]**2)\n",
        "print(round(distance))\n"
      ]
    },
    {
      "cell_type": "markdown",
      "id": "89040ea7",
      "metadata": {
        "id": "89040ea7"
      },
      "source": [
        "## Task 2  (1 points)\n",
        "\n",
        "You're task is to creat a Python program that analyzes a piece of text and provides the frequency of each word in it. The program takes the text as input and returns a dictionary where the keys are the words in the text and the values are the frequencies of those words. Also, print most frequent word in text.\n",
        "\n",
        "Your program should allow the user to input any text and then display the word frequency dictionary."
      ]
    },
    {
      "cell_type": "code",
      "execution_count": 1,
      "id": "782170f2",
      "metadata": {
        "id": "782170f2",
        "colab": {
          "base_uri": "https://localhost:8080/"
        },
        "outputId": "18d83de2-c1c4-4f2c-c0fe-7e24dee6bebd"
      },
      "outputs": [
        {
          "output_type": "stream",
          "name": "stdout",
          "text": [
            "Enter the text: The car was going to Kositina and the car crashed\n",
            "Word Frequency: {'the': 2, 'car': 2, 'was': 1, 'going': 1, 'to': 1, 'kositina': 1, 'and': 1, 'crashed': 1}\n",
            "Most Frequent Word: the\n"
          ]
        }
      ],
      "source": [
        "text = input(\"Enter the text: \").lower()\n",
        "words = text.split()\n",
        "frequency = {}\n",
        "\n",
        "for word in words:\n",
        "    frequency[word] = frequency.get(word, 0) + 1\n",
        "\n",
        "most_frequent = max(frequency, key=frequency.get)\n",
        "\n",
        "print(\"Word Frequency:\", frequency)\n",
        "print(\"Most Frequent Word:\", most_frequent)\n"
      ]
    },
    {
      "cell_type": "markdown",
      "id": "9f0f0213",
      "metadata": {
        "id": "9f0f0213"
      },
      "source": [
        "## Task 3 - Shopping Inventory (0.5 points)\n",
        "\n",
        "You are given an inventory of items available in a shopping market represented as a dictionary where the keys are the item names and the values are the corresponding quantities available. Your task is to create a program that helps users create a sorted shopping list.\n",
        "\n",
        "Your program should:\n",
        "\n",
        "Prompt the user to input the items they want to buy, one at a time.\n",
        "Check if the item is available in the inventory. If it is, add it to the shopping list. If not, inform the user that the item is not available.\n",
        "After the user finishes inputting their items, sort the shopping list alphabetically.\n",
        "Display the sorted shopping list to the user.\n",
        "\n",
        "Sample Shopping list: You can use your or user entered items & values.\n",
        "```\n",
        "    'apple': 10,\n",
        "    'banana': 5,\n",
        "    'orange': 8,\n",
        "    'grapes': 3\n",
        "\n",
        "```\n",
        "\n",
        "**Note:** The inventory is an arbitrary dictionary."
      ]
    },
    {
      "cell_type": "code",
      "execution_count": 2,
      "id": "c79ed191",
      "metadata": {
        "id": "c79ed191",
        "colab": {
          "base_uri": "https://localhost:8080/"
        },
        "outputId": "0bb82f0d-0e05-49bb-f562-03f37b8b55ce"
      },
      "outputs": [
        {
          "output_type": "stream",
          "name": "stdout",
          "text": [
            "Enter product (or 'done' to finish): Prones,\n",
            "Sorry, prones, not available.\n",
            "Enter product (or 'done' to finish): Apricots\n",
            "Sorry, apricots not available.\n",
            "Enter product (or 'done' to finish): Apple\n",
            "Enter product (or 'done' to finish): done\n",
            "Apple\n"
          ]
        }
      ],
      "source": [
        "stock = {\n",
        "    'apple': 10,\n",
        "    'banana': 5,\n",
        "    'orange': 8,\n",
        "    'grapes': 3\n",
        "}\n",
        "\n",
        "def shopping():\n",
        "    cart = []\n",
        "    while True:\n",
        "        product = input(\"Enter product (or 'done' to finish): \").lower()\n",
        "        if product == 'done':\n",
        "            break\n",
        "        if product in stock:\n",
        "            cart.append(product)\n",
        "        else:\n",
        "            print(f\"Sorry, {product} not available.\")\n",
        "    for p in sorted(cart):\n",
        "        print(p.capitalize())\n",
        "\n",
        "shopping()"
      ]
    },
    {
      "cell_type": "markdown",
      "id": "abdb3a46",
      "metadata": {
        "id": "abdb3a46"
      },
      "source": [
        "## Task 4 - Validating Password (1 points)\n",
        "\n",
        "A website requires the users to input username and password to register. Write a program to check the validity of password input by users.\n",
        "\n",
        "Following are the criteria for checking the password:\n",
        "\n",
        "1. At least 1 letter between [a-z]\n",
        "2. At least 1 number between [0-9]\n",
        "1. At least 1 letter between [A-Z]\n",
        "3. At least 1 character from \\[$#@]\n",
        "4. Minimum length of transaction password: 6\n",
        "5. Maximum length of transaction password: 12\n",
        "\n",
        "Your program should accept a sequence of comma separated passwords and will check them according to the above criteria. Passwords that match the criteria are to be printed, each separated by a comma.\n",
        "\n",
        "```\n",
        "If the following passwords are given as input to the program:\n",
        "Input: ABd1234@1,a F1#,2w3E*,2We3345\n",
        "\n",
        "Then, the output of the program should be:\n",
        "Output: ABd1234@1\n",
        "```\n",
        "\n",
        "Hint: Check the function **re.search()** function (regular expression)."
      ]
    },
    {
      "cell_type": "code",
      "execution_count": 3,
      "id": "36536912",
      "metadata": {
        "colab": {
          "base_uri": "https://localhost:8080/"
        },
        "id": "36536912",
        "outputId": "da0e8790-820d-4bdc-cba5-0c8ef26e1728"
      },
      "outputs": [
        {
          "output_type": "stream",
          "name": "stdout",
          "text": [
            "Enter passwords (comma-separated): Jaleel@12\n",
            "Jaleel@12\n"
          ]
        }
      ],
      "source": [
        "import re\n",
        "\n",
        "def validate_passwords():\n",
        "    passwords = input(\"Enter passwords (comma-separated): \").split(',')\n",
        "    valid_passwords = []\n",
        "\n",
        "    for password in passwords:\n",
        "        if (6 <= len(password) <= 12 and\n",
        "            re.search(\"[a-z]\", password) and\n",
        "            re.search(\"[A-Z]\", password) and\n",
        "            re.search(\"[0-9]\", password) and\n",
        "            re.search(\"[$#@]\", password)):\n",
        "            valid_passwords.append(password.strip())\n",
        "\n",
        "    print(\",\".join(valid_passwords))\n",
        "\n",
        "validate_passwords()\n",
        "\n"
      ]
    },
    {
      "cell_type": "markdown",
      "id": "d3891c7e",
      "metadata": {
        "id": "d3891c7e"
      },
      "source": [
        "## Task 5 - Stadium Area (1 point)\n",
        "\n",
        "A football stadium has the shape as shown in below Figure.\n",
        "\n",
        "![stadium.PNG](data:image/png;base64,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)\n",
        "\n",
        "\n",
        "The total area of the stadium comprises of 3 parts indicating by **area_1, area_2 and area_3** in the figure. **area_1 and area_3 are half-circles** whose diameters are **q**. **area_2 is a rectangle of size p by q**.\n",
        "\n",
        "\n",
        "Your task is to write a program that prints out the total area of a stadium given the value of p and q. Your program starts by reading in values of p and q on a separate lines from the console. Here is an example input.\n",
        "\n",
        "> Enter p: 10.2 \\\n",
        "> Enter q: 15.0\n",
        "\n",
        "This means p is 10.2 and q is 15.0. The expected output should be formatted as follows:\n",
        "```\n",
        "The total area is 329.625\n",
        "```\n",
        "When we grade your program, we will change the values of p and q so it is important that your\n",
        "program should work for any values of p and q.\n",
        "\n",
        "Are of circle:\n",
        "https://en.wikipedia.org/wiki/Area_of_a_circle\n",
        "\n",
        "Area of rectangle:\n",
        "https://en.wikipedia.org/wiki/Rectangle\n",
        "\n",
        "**Note:** You may assume that the value of π = 3.14"
      ]
    },
    {
      "cell_type": "code",
      "execution_count": 6,
      "id": "f87ca841",
      "metadata": {
        "id": "f87ca841",
        "colab": {
          "base_uri": "https://localhost:8080/"
        },
        "outputId": "2e8a09b2-c4e6-40ae-8c08-1befcac47848"
      },
      "outputs": [
        {
          "output_type": "stream",
          "name": "stdout",
          "text": [
            "Enter  (p): 10.5\n",
            "Enter  (q): 15.0\n",
            "Stadium area: 334.21\n"
          ]
        }
      ],
      "source": [
        "import math\n",
        "\n",
        "def stadium_area(p, q):\n",
        "    rect_area = p * q\n",
        "    radius = q / 2\n",
        "    circle_area = math.pi * radius ** 2\n",
        "    return rect_area + circle_area\n",
        "\n",
        "p = float(input(\"Enter  (p): \"))\n",
        "q = float(input(\"Enter  (q): \"))\n",
        "area = stadium_area(p, q)\n",
        "print(f\"Stadium area: {area:.2f}\")"
      ]
    },
    {
      "cell_type": "markdown",
      "id": "3bca6a64",
      "metadata": {
        "id": "3bca6a64"
      },
      "source": [
        "## Task 6 - Shifting 2D Matrix (1.5 point)\n",
        "\n",
        "Let's develop the idea from the task in previous homework, now consider a 2D array, and you want to implement a program that not only shift to right or left, but also, it can shift up or down.\n",
        "\n",
        "In this scenario, the user need to insert four different arguments:\n",
        "\n",
        "1. Row shift or column shift? ('row' or 'column')\n",
        "\n",
        "2. Which direction? ('left', 'right' or 'top', 'down')\n",
        "\n",
        "3. Index of the column or row? (an integer index)\n",
        "\n",
        "4. How many elements need to be shifted? (integer number)"
      ]
    },
    {
      "cell_type": "code",
      "execution_count": 4,
      "id": "24dc9875",
      "metadata": {
        "id": "24dc9875",
        "colab": {
          "base_uri": "https://localhost:8080/",
          "height": 106
        },
        "outputId": "ab9357dc-befd-4c60-92c0-bc53e4a54c0c"
      },
      "outputs": [
        {
          "output_type": "error",
          "ename": "SyntaxError",
          "evalue": "invalid syntax. Maybe you meant '==' or ':=' instead of '='? (<ipython-input-4-9165792a93c0>, line 14)",
          "traceback": [
            "\u001b[0;36m  File \u001b[0;32m\"<ipython-input-4-9165792a93c0>\"\u001b[0;36m, line \u001b[0;32m14\u001b[0m\n\u001b[0;31m    if direction = 'top':\u001b[0m\n\u001b[0m       ^\u001b[0m\n\u001b[0;31mSyntaxError\u001b[0m\u001b[0;31m:\u001b[0m invalid syntax. Maybe you meant '==' or ':=' instead of '='?\n"
          ]
        }
      ],
      "source": [
        "def shift_row(matrix, row_index, direction, shift_count):\n",
        "    n = len(matrix[0])\n",
        "    shift_count %= n\n",
        "    if direction = 'left':\n",
        "        matrix[row_index] = matrix[row_index][shift_count:] + matrix[row_index][:shift_count]\n",
        "    elif direction = 'right':\n",
        "        matrix[row_index] = matrix[row_index][-shift_count:] + matrix[row_index][:-shift_count]\n",
        "    return matrix\n",
        "\n",
        "def shift_column(matrix, col_index, direction, shift_count):\n",
        "    m = len(matrix)\n",
        "    shift_count %= m\n",
        "    column = [matrix[i][col_index] for i in range(m)]\n",
        "    if direction = 'top':\n",
        "        column = column[shift_count:] + column[:shift_count]\n",
        "    elif direction = 'down':\n",
        "        column = column[-shift_count:] + column[:-shift_count]\n",
        "    for i in range(m):\n",
        "        matrix[i][col_index] = column[i]\n",
        "    return matrix\n",
        "\n",
        "def shift_2d_matrix():\n",
        "    matrix = [\n",
        "        [1, 2, 3, 4],\n",
        "        [5, 6, 7, 8],\n",
        "        [9, 10, 11, 12],\n",
        "        [13, 14, 15, 16]\n",
        "    ]\n",
        "    operation = input().strip()\n",
        "    direction = input().strip()\n",
        "    index = int(input())\n",
        "    shift_count = int(input())\n",
        "    if operation == 'row':\n",
        "        matrix = shift_row(matrix, index, direction, shift_count)\n",
        "    elif operation == 'column':\n",
        "        matrix = shift_column(matrix, index, direction, shift_count)\n",
        "    for row in matrix:\n",
        "        print(row)"
      ]
    },
    {
      "cell_type": "markdown",
      "id": "c2f77e0e",
      "metadata": {
        "id": "c2f77e0e"
      },
      "source": [
        "## Task 7 - Validate Card (1 point)\n",
        "\n",
        "You have started an IT Company and your company recieved first project of credit cards validation from BIC Bank. You wants to verify whether this credit card numbers are valid or not.\n",
        "\n",
        "A valid credit card from BIC Bank has the following characteristics:\n",
        "\n",
        "```\n",
        "► It must start with a 4, 5 or 6 .\n",
        "► It must contain exactly 16 digits.\n",
        "► It must only consist of digits (0-9).\n",
        "► It may have digits in groups of 4, separated by one hyphen \"-\".\n",
        "► It must NOT use any other separator like ' ' , '_', etc.\n",
        "► It must NOT have 4 or more consecutive repeated digits.\n",
        "```\n",
        "\n",
        "Your program should run for any user input value of credit card no. (Below is just for reference)\n",
        "\n",
        "```\n",
        "# Sample Input\n",
        "4123456789123456\n",
        "5123-4567-8912-3456\n",
        "61234-567-8912-3456\n",
        "4123356789123456\n",
        "5133-3367-8912-3456\n",
        "5123 - 3567 - 8912 - 3456\n",
        "\n",
        "# Output\n",
        "Valid\n",
        "Valid\n",
        "Invalid\n",
        "Valid\n",
        "Invalid\n",
        "Invalid\n",
        "\n",
        "```"
      ]
    },
    {
      "cell_type": "code",
      "execution_count": 5,
      "id": "4a843690",
      "metadata": {
        "id": "4a843690",
        "colab": {
          "base_uri": "https://localhost:8080/"
        },
        "outputId": "6342eb69-6ed5-40f5-b60f-ce97da6f1e88"
      },
      "outputs": [
        {
          "output_type": "stream",
          "name": "stdout",
          "text": [
            "Valid\n",
            "Valid\n",
            "Invalid\n",
            "Valid\n",
            "Invalid\n",
            "Invalid\n"
          ]
        }
      ],
      "source": [
        "import re\n",
        "\n",
        "def validate_credit_card(card_number):\n",
        "    pattern = r'^[456]\\d{3}(-?\\d{4}){3}$'\n",
        "    if re.match(pattern, card_number):\n",
        "        card_number = card_number.replace('-', '')\n",
        "        if len(card_number) == 16:\n",
        "            for i in range(13):\n",
        "                if card_number[i] == card_number[i+1] == card_number[i+2] == card_number[i+3]:\n",
        "                    return 'Invalid'\n",
        "            return 'Valid'\n",
        "    return 'Invalid'\n",
        "\n",
        "card_numbers = [\n",
        "    \"4123456789123456\",\n",
        "    \"5123-4567-8912-3456\",\n",
        "    \"61234-567-8912-3456\",\n",
        "    \"4123356789123456\",\n",
        "    \"5133-3367-8912-3456\",\n",
        "    \"5123 - 3567 - 8912 - 3456\"\n",
        "]\n",
        "for card in card_numbers:\n",
        "    print(validate_credit_card(card))\n"
      ]
    }
  ],
  "metadata": {
    "colab": {
      "provenance": []
    },
    "kernelspec": {
      "display_name": "Python 3",
      "language": "python",
      "name": "python3"
    },
    "language_info": {
      "codemirror_mode": {
        "name": "ipython",
        "version": 3
      },
      "file_extension": ".py",
      "mimetype": "text/x-python",
      "name": "python",
      "nbconvert_exporter": "python",
      "pygments_lexer": "ipython3",
      "version": "3.10.7"
    }
  },
  "nbformat": 4,
  "nbformat_minor": 5
}