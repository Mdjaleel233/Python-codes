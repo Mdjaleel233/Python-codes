{
  "cells": [
    {
      "cell_type": "markdown",
      "id": "8f868eb6",
      "metadata": {
        "id": "8f868eb6"
      },
      "source": [
        "# Homework 1 - Python\n",
        "\n",
        "First Name: Jaleel\n",
        "\n",
        "Last Name: Muhammad\n",
        "\n",
        "Group:\n",
        "\n",
        "### After the assigment is done, please, push it to your [private GitHub repository](https://docs.github.com/en/github/administering-a-repository/managing-repository-settings/setting-repository-visibility) and invite [Majid-Sohrabi](https://github.com/Majid-Sohrabi)  as [collaborator](https://docs.github.com/en/account-and-profile/setting-up-and-managing-your-github-user-account/managing-access-to-your-personal-repositories/inviting-collaborators-to-a-personal-repository)."
      ]
    },
    {
      "cell_type": "markdown",
      "id": "f47683d8",
      "metadata": {
        "id": "f47683d8"
      },
      "source": [
        "## Task 1  (0.5 point)\n",
        "\n",
        "Write a program that takes two numbers as input from the user and prints whether the first number is greater than, less than, or equal to the second number."
      ]
    },
    {
      "cell_type": "code",
      "execution_count": 2,
      "id": "2d62ba3d",
      "metadata": {
        "colab": {
          "base_uri": "https://localhost:8080/"
        },
        "id": "2d62ba3d",
        "outputId": "5f4212cc-505e-4f08-c92b-f842b6312d5f"
      },
      "outputs": [
        {
          "output_type": "stream",
          "name": "stdout",
          "text": [
            "please enter the first number: 6\n",
            "Please enter the second number: 8\n",
            "The first number is less than the second number.\n"
          ]
        }
      ],
      "source": [
        "firstnum = float(input(\"please enter the first number: \"))\n",
        "secondnum = float(input(\"Please enter the second number: \"))\n",
        "if firstnum > secondnum:\n",
        "    print(\"The first number is greater than the second number.\")\n",
        "elif firstnum < secondnum:\n",
        "    print(\"The first number is less than the second number.\")\n",
        "else:\n",
        "    print(\"The first number is equal to the second number.\")\n"
      ]
    },
    {
      "cell_type": "markdown",
      "id": "d03af2f7",
      "metadata": {
        "id": "d03af2f7"
      },
      "source": [
        "## Task 2 (0.5 point)\n",
        "\n",
        "Write a program that receives a positive integer `N` from the user, the task is to find following formula:\n",
        "\n",
        "$$\n",
        "1^2 + 2^3 + 3^2 + ... + N^2 (or N^3)\n",
        "$$\n",
        "\n",
        "1. If the number is odd then rais to the power of 2.\n",
        "2. If the number is even then rais to the power of 3.\n",
        "\n",
        "\n",
        "Example:\n",
        "\n",
        "$$\n",
        "N = 5\n",
        "$$\n",
        "\n",
        "$$\n",
        "1^2 + 2^3 + 3^2 + 4^3 + 5^2 = (1 + 8 + 9 + 64 + 25) = 107\n",
        "$$\n",
        "\n",
        "The program should work for any arbitrary N from the user."
      ]
    },
    {
      "cell_type": "code",
      "execution_count": 4,
      "id": "53894434",
      "metadata": {
        "colab": {
          "base_uri": "https://localhost:8080/"
        },
        "id": "53894434",
        "outputId": "02795f4d-8fe0-483a-abd8-3a4e66bcd9ff"
      },
      "outputs": [
        {
          "output_type": "stream",
          "name": "stdout",
          "text": [
            "integer: 8\n",
            "The result of the formula is: 884\n"
          ]
        }
      ],
      "source": [
        "N = int(input(\"integer: \"))\n",
        "\n",
        "result = 0\n",
        "\n",
        "for i in range(1, N + 1):\n",
        "    if i % 2 == 0:\n",
        "        result += i ** 3\n",
        "    else:\n",
        "        result += i ** 2\n",
        "\n",
        "print(f\"The result of the formula is: {result}\")\n"
      ]
    },
    {
      "cell_type": "markdown",
      "id": "89040ea7",
      "metadata": {
        "id": "89040ea7"
      },
      "source": [
        "## Task 3  (0.5 points)\n",
        "\n",
        "Write a python program to rotate the elements of a list with an arbitrary direction (left or right) and arbitrary number or elements.\n",
        "\n",
        "1. The user need to insert the term ('left' or 'right') which shows the direction of the rotation.\n",
        "2. The user need to insert the number d which specifies how many elements need to be rotated.\n",
        "\n",
        "Example:\n",
        "\n",
        "```\n",
        "List (array) = [1, 2, 3, 4, 5, 6, 7]\n",
        "\n",
        "if left shift by 2 elements:\n",
        "\n",
        "Ooutput = [3, 4, 5, 6, 7, 1, 2]\n",
        "```"
      ]
    },
    {
      "cell_type": "code",
      "execution_count": 5,
      "id": "782170f2",
      "metadata": {
        "colab": {
          "base_uri": "https://localhost:8080/"
        },
        "id": "782170f2",
        "outputId": "f4d08612-087c-4c99-970d-f57b2f8a2932"
      },
      "outputs": [
        {
          "output_type": "stream",
          "name": "stdout",
          "text": [
            "1\n",
            "23\n",
            "[1, 2, 3, 4, 5, 6, 7]\n"
          ]
        }
      ],
      "source": [
        "lst = [1, 2, 3, 4, 5, 6, 7]\n",
        "direction = input().strip().lower()\n",
        "d = int(input())\n",
        "\n",
        "if direction == \"left\":\n",
        "    lst = lst[d:] + lst[:d]\n",
        "elif direction == \"right\":\n",
        "    lst = lst[-d:] + lst[:-d]\n",
        "\n",
        "print(lst)"
      ]
    },
    {
      "cell_type": "markdown",
      "id": "9f0f0213",
      "metadata": {
        "id": "9f0f0213"
      },
      "source": [
        "## Task 4  (0.5 points)\n",
        "\n",
        "Write a program that takes an integer as input and prints whether it is even or odd number."
      ]
    },
    {
      "cell_type": "code",
      "execution_count": 6,
      "id": "c79ed191",
      "metadata": {
        "colab": {
          "base_uri": "https://localhost:8080/"
        },
        "id": "c79ed191",
        "outputId": "35609f90-042e-4820-bd15-229397d37d57"
      },
      "outputs": [
        {
          "output_type": "stream",
          "name": "stdout",
          "text": [
            "8\n",
            "Even\n"
          ]
        }
      ],
      "source": [
        "num = int(input())\n",
        "\n",
        "if num % 2 == 0:\n",
        "    print(\"Even\")\n",
        "else:\n",
        "    print(\"Odd\")"
      ]
    },
    {
      "cell_type": "markdown",
      "id": "8a0edbe2",
      "metadata": {
        "id": "8a0edbe2"
      },
      "source": [
        "## Task 5  (0.5 point)\n",
        "\n",
        "Write a program that splits a list by an index inserted by the user, then cut the list from that index and attach the right part to the beginning of the list.\n",
        "\n",
        "Example:\n",
        "\n",
        "\n",
        "list: [1, 2, 3, 4, **5, 6, 7**]\n",
        "\n",
        "new list: [**5, 6, 7**, 1, 2, 3, 4]"
      ]
    },
    {
      "cell_type": "code",
      "execution_count": 7,
      "id": "5414b2cf",
      "metadata": {
        "colab": {
          "base_uri": "https://localhost:8080/"
        },
        "id": "5414b2cf",
        "outputId": "9f0ea813-d382-464b-af0c-0515038e83dd"
      },
      "outputs": [
        {
          "output_type": "stream",
          "name": "stdout",
          "text": [
            "8\n",
            "[1, 2, 3, 4, 5, 6, 7]\n"
          ]
        }
      ],
      "source": [
        "l = [1, 2, 3, 4, 5, 6, 7]\n",
        "i = int(input())\n",
        "\n",
        "n = l[i:] + l[:i]\n",
        "\n",
        "print(n)"
      ]
    },
    {
      "cell_type": "markdown",
      "id": "63c550f5",
      "metadata": {
        "id": "63c550f5"
      },
      "source": [
        "## Task 6  (0.5 point)\n",
        "\n",
        "Write a program that takes a numeric grade as input and prints the corresponding letter grade (A, B, C, D, or F) according to the following criteria:\n",
        "\n",
        "- F: 0-59\n",
        "- D: 60-69\n",
        "- C: 70-79\n",
        "- B: 80-89\n",
        "- A: 90-100"
      ]
    },
    {
      "cell_type": "code",
      "execution_count": 9,
      "id": "90fcc676",
      "metadata": {
        "colab": {
          "base_uri": "https://localhost:8080/"
        },
        "id": "90fcc676",
        "outputId": "a76da750-5093-4176-b92f-ffc7fcad312e"
      },
      "outputs": [
        {
          "output_type": "stream",
          "name": "stdout",
          "text": [
            "60\n",
            "D\n"
          ]
        }
      ],
      "source": [
        "g = int(input())\n",
        "\n",
        "if 90 <= g <= 100:\n",
        "    print(\"A\")\n",
        "elif 80 <= g <= 89:\n",
        "    print(\"B\")\n",
        "elif 70 <= g <= 79:\n",
        "    print(\"C\")\n",
        "elif 60 <= g <= 69:\n",
        "    print(\"D\")\n",
        "else:\n",
        "    print(\"F\")"
      ]
    },
    {
      "cell_type": "markdown",
      "id": "7e46ae74",
      "metadata": {
        "id": "7e46ae74"
      },
      "source": [
        "## Task 7  (0.25 point)\n",
        "\n",
        "Write a program that takes a number as input and prints whether it falls within the range of 1 to 100 (inclusive).\n",
        "\n",
        "$$x \\in [0, 100]$$"
      ]
    },
    {
      "cell_type": "code",
      "execution_count": 10,
      "id": "142d9d7a",
      "metadata": {
        "colab": {
          "base_uri": "https://localhost:8080/"
        },
        "id": "142d9d7a",
        "outputId": "99bab5dc-99f4-463f-cd4f-6d1effd78b41"
      },
      "outputs": [
        {
          "output_type": "stream",
          "name": "stdout",
          "text": [
            "7\n",
            "In range\n"
          ]
        }
      ],
      "source": [
        "x = int(input())\n",
        "\n",
        "if 0 <= x <= 100:\n",
        "    print(\"In range\")\n",
        "else:\n",
        "    print(\"Out of range\")"
      ]
    },
    {
      "cell_type": "markdown",
      "id": "d1d75ffd",
      "metadata": {
        "id": "d1d75ffd"
      },
      "source": [
        "## Task 8  (0.25 point)\n",
        "\n",
        "Write a program that takes a character (letter) as input and prints whether it is a vowel or a consonant."
      ]
    },
    {
      "cell_type": "code",
      "execution_count": 12,
      "id": "dec0c2b5",
      "metadata": {
        "colab": {
          "base_uri": "https://localhost:8080/"
        },
        "id": "dec0c2b5",
        "outputId": "5e56ce68-c7c8-4e2e-821f-0e70282d1096"
      },
      "outputs": [
        {
          "output_type": "stream",
          "name": "stdout",
          "text": [
            "jaleel\n",
            "Consonant\n"
          ]
        }
      ],
      "source": [
        "c = input().lower()\n",
        "\n",
        "if c in 'aeiou':\n",
        "    print(\"Vowel\")\n",
        "else:\n",
        "    print(\"Consonant\")"
      ]
    },
    {
      "cell_type": "markdown",
      "id": "f026862b",
      "metadata": {
        "id": "f026862b"
      },
      "source": [
        "## Task 9  (0.5 point)\n",
        "\n",
        "Write a program that takes a number representing a day of the week (1 for Monday, 2 for Tuesday, etc.) and prints the corresponding day name."
      ]
    },
    {
      "cell_type": "code",
      "execution_count": 14,
      "id": "139ad2ab",
      "metadata": {
        "colab": {
          "base_uri": "https://localhost:8080/"
        },
        "id": "139ad2ab",
        "outputId": "76cd4ad1-6831-4dfa-f0b9-c0b38494433e"
      },
      "outputs": [
        {
          "output_type": "stream",
          "name": "stdout",
          "text": [
            "hy\n",
            "Invalid day\n"
          ]
        }
      ],
      "source": [
        "day =(input())\n",
        "\n",
        "if day == 1:\n",
        "    print(\"Monday\")\n",
        "elif day == 2:\n",
        "    print(\"Tueday\")\n",
        "elif day == 3:\n",
        "    print(\"Wedday\")\n",
        "elif day == 4:\n",
        "    print(\"Thurday\")\n",
        "elif day == 5:\n",
        "    print(\"Friday\")\n",
        "elif day == 6:\n",
        "    print(\"Satday\")\n",
        "elif day == 7:\n",
        "    print(\"Sunday\")\n",
        "else:\n",
        "    print(\"Invalid day\")"
      ]
    }
  ],
  "metadata": {
    "kernelspec": {
      "display_name": "Python 3",
      "language": "python",
      "name": "python3"
    },
    "language_info": {
      "codemirror_mode": {
        "name": "ipython",
        "version": 3
      },
      "file_extension": ".py",
      "mimetype": "text/x-python",
      "name": "python",
      "nbconvert_exporter": "python",
      "pygments_lexer": "ipython3",
      "version": "3.10.7"
    },
    "colab": {
      "provenance": []
    }
  },
  "nbformat": 4,
  "nbformat_minor": 5
}